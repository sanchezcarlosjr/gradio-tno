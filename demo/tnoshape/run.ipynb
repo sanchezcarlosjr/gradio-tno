{
 "cells": [
  {
   "cell_type": "markdown",
   "id": "302934307671667531413257853548643485645",
   "metadata": {},
   "source": [
    "# Gradio Demo: color_picker"
   ]
  },
  {
   "cell_type": "code",
   "execution_count": null,
   "id": "272996653310673477252411125948039410165",
   "metadata": {},
   "outputs": [],
   "source": [
    "!pip install -q gradio Pillow"
   ]
  },
  {
   "cell_type": "code",
   "execution_count": null,
   "id": "288918539441861185822528903084949547379",
   "metadata": {},
   "outputs": [],
   "source": [
    "# Downloading files from the demo repo\n",
    "import os\n",
    "!wget -q https://github.com/gradio-app/gradio/raw/main/demo/color_picker/rabbit.png"
   ]
  },
  {
   "cell_type": "code",
   "execution_count": 5,
   "id": "44380577570523278879349135829904343037",
   "metadata": {},
   "outputs": [
    {
     "name": "stdout",
     "output_type": "stream",
     "text": [
      "Running on local URL:  http://127.0.0.1:7861\n",
      "\n",
      "To create a public link, set `share=True` in `launch()`.\n"
     ]
    },
    {
     "data": {
      "text/html": [
       "<div><iframe src=\"http://127.0.0.1:7861/\" width=\"100%\" height=\"500\" allow=\"autoplay; camera; microphone; clipboard-read; clipboard-write;\" frameborder=\"0\" allowfullscreen></iframe></div>"
      ],
      "text/plain": [
       "<IPython.core.display.HTML object>"
      ]
     },
     "metadata": {},
     "output_type": "display_data"
    },
    {
     "name": "stderr",
     "output_type": "stream",
     "text": [
      "ERROR:    Exception in ASGI application\n",
      "Traceback (most recent call last):\n",
      "  File \"/home/cest/Workspace/gradio/demo/color_picker/venv/lib/python3.11/site-packages/uvicorn/protocols/http/h11_impl.py\", line 408, in run_asgi\n",
      "    result = await app(  # type: ignore[func-returns-value]\n",
      "             ^^^^^^^^^^^^^^^^^^^^^^^^^^^^^^^^^^^^^^^^^^^^^^\n",
      "  File \"/home/cest/Workspace/gradio/demo/color_picker/venv/lib/python3.11/site-packages/uvicorn/middleware/proxy_headers.py\", line 84, in __call__\n",
      "    return await self.app(scope, receive, send)\n",
      "           ^^^^^^^^^^^^^^^^^^^^^^^^^^^^^^^^^^^^\n",
      "  File \"/home/cest/Workspace/gradio/demo/color_picker/venv/lib/python3.11/site-packages/fastapi/applications.py\", line 1115, in __call__\n",
      "    await super().__call__(scope, receive, send)\n",
      "  File \"/home/cest/Workspace/gradio/demo/color_picker/venv/lib/python3.11/site-packages/starlette/applications.py\", line 122, in __call__\n",
      "    await self.middleware_stack(scope, receive, send)\n",
      "  File \"/home/cest/Workspace/gradio/demo/color_picker/venv/lib/python3.11/site-packages/starlette/middleware/errors.py\", line 184, in __call__\n",
      "    raise exc\n",
      "  File \"/home/cest/Workspace/gradio/demo/color_picker/venv/lib/python3.11/site-packages/starlette/middleware/errors.py\", line 162, in __call__\n",
      "    await self.app(scope, receive, _send)\n",
      "  File \"/home/cest/Workspace/gradio/demo/color_picker/venv/lib/python3.11/site-packages/starlette/middleware/cors.py\", line 83, in __call__\n",
      "    await self.app(scope, receive, send)\n",
      "  File \"/home/cest/Workspace/gradio/demo/color_picker/venv/lib/python3.11/site-packages/starlette/middleware/exceptions.py\", line 79, in __call__\n",
      "    raise exc\n",
      "  File \"/home/cest/Workspace/gradio/demo/color_picker/venv/lib/python3.11/site-packages/starlette/middleware/exceptions.py\", line 68, in __call__\n",
      "    await self.app(scope, receive, sender)\n",
      "  File \"/home/cest/Workspace/gradio/demo/color_picker/venv/lib/python3.11/site-packages/fastapi/middleware/asyncexitstack.py\", line 20, in __call__\n",
      "    raise e\n",
      "  File \"/home/cest/Workspace/gradio/demo/color_picker/venv/lib/python3.11/site-packages/fastapi/middleware/asyncexitstack.py\", line 17, in __call__\n",
      "    await self.app(scope, receive, send)\n",
      "  File \"/home/cest/Workspace/gradio/demo/color_picker/venv/lib/python3.11/site-packages/starlette/routing.py\", line 718, in __call__\n",
      "    await route.handle(scope, receive, send)\n",
      "  File \"/home/cest/Workspace/gradio/demo/color_picker/venv/lib/python3.11/site-packages/starlette/routing.py\", line 276, in handle\n",
      "    await self.app(scope, receive, send)\n",
      "  File \"/home/cest/Workspace/gradio/demo/color_picker/venv/lib/python3.11/site-packages/starlette/routing.py\", line 66, in app\n",
      "    response = await func(request)\n",
      "               ^^^^^^^^^^^^^^^^^^^\n",
      "  File \"/home/cest/Workspace/gradio/demo/color_picker/venv/lib/python3.11/site-packages/fastapi/routing.py\", line 274, in app\n",
      "    raw_response = await run_endpoint_function(\n",
      "                   ^^^^^^^^^^^^^^^^^^^^^^^^^^^^\n",
      "  File \"/home/cest/Workspace/gradio/demo/color_picker/venv/lib/python3.11/site-packages/fastapi/routing.py\", line 193, in run_endpoint_function\n",
      "    return await run_in_threadpool(dependant.call, **values)\n",
      "           ^^^^^^^^^^^^^^^^^^^^^^^^^^^^^^^^^^^^^^^^^^^^^^^^^\n",
      "  File \"/home/cest/Workspace/gradio/demo/color_picker/venv/lib/python3.11/site-packages/starlette/concurrency.py\", line 41, in run_in_threadpool\n",
      "    return await anyio.to_thread.run_sync(func, *args)\n",
      "           ^^^^^^^^^^^^^^^^^^^^^^^^^^^^^^^^^^^^^^^^^^^\n",
      "  File \"/home/cest/Workspace/gradio/demo/color_picker/venv/lib/python3.11/site-packages/anyio/to_thread.py\", line 33, in run_sync\n",
      "    return await get_asynclib().run_sync_in_worker_thread(\n",
      "           ^^^^^^^^^^^^^^^^^^^^^^^^^^^^^^^^^^^^^^^^^^^^^^^\n",
      "  File \"/home/cest/Workspace/gradio/demo/color_picker/venv/lib/python3.11/site-packages/anyio/_backends/_asyncio.py\", line 877, in run_sync_in_worker_thread\n",
      "    return await future\n",
      "           ^^^^^^^^^^^^\n",
      "  File \"/home/cest/Workspace/gradio/demo/color_picker/venv/lib/python3.11/site-packages/anyio/_backends/_asyncio.py\", line 807, in run\n",
      "    result = context.run(func, *args)\n",
      "             ^^^^^^^^^^^^^^^^^^^^^^^^\n",
      "  File \"/home/cest/Workspace/gradio/gradio/routes.py\", line 355, in api_info\n",
      "    return gradio.blocks.get_api_info(config, serialize)  # type: ignore\n",
      "           ^^^^^^^^^^^^^^^^^^^^^^^^^^^^^^^^^^^^^^^^^^^^^\n",
      "  File \"/home/cest/Workspace/gradio/gradio/blocks.py\", line 435, in get_api_info\n",
      "    serializer = serializing.COMPONENT_MAPPING[type]()\n",
      "                 ~~~~~~~~~~~~~~~~~~~~~~~~~~~~~^^^^^^\n",
      "KeyError: 'tnoshape'\n",
      "ERROR:    Exception in ASGI application\n",
      "Traceback (most recent call last):\n",
      "  File \"/home/cest/Workspace/gradio/demo/color_picker/venv/lib/python3.11/site-packages/uvicorn/protocols/http/h11_impl.py\", line 408, in run_asgi\n",
      "    result = await app(  # type: ignore[func-returns-value]\n",
      "             ^^^^^^^^^^^^^^^^^^^^^^^^^^^^^^^^^^^^^^^^^^^^^^\n",
      "  File \"/home/cest/Workspace/gradio/demo/color_picker/venv/lib/python3.11/site-packages/uvicorn/middleware/proxy_headers.py\", line 84, in __call__\n",
      "    return await self.app(scope, receive, send)\n",
      "           ^^^^^^^^^^^^^^^^^^^^^^^^^^^^^^^^^^^^\n",
      "  File \"/home/cest/Workspace/gradio/demo/color_picker/venv/lib/python3.11/site-packages/fastapi/applications.py\", line 1115, in __call__\n",
      "    await super().__call__(scope, receive, send)\n",
      "  File \"/home/cest/Workspace/gradio/demo/color_picker/venv/lib/python3.11/site-packages/starlette/applications.py\", line 122, in __call__\n",
      "    await self.middleware_stack(scope, receive, send)\n",
      "  File \"/home/cest/Workspace/gradio/demo/color_picker/venv/lib/python3.11/site-packages/starlette/middleware/errors.py\", line 184, in __call__\n",
      "    raise exc\n",
      "  File \"/home/cest/Workspace/gradio/demo/color_picker/venv/lib/python3.11/site-packages/starlette/middleware/errors.py\", line 162, in __call__\n",
      "    await self.app(scope, receive, _send)\n",
      "  File \"/home/cest/Workspace/gradio/demo/color_picker/venv/lib/python3.11/site-packages/starlette/middleware/cors.py\", line 83, in __call__\n",
      "    await self.app(scope, receive, send)\n",
      "  File \"/home/cest/Workspace/gradio/demo/color_picker/venv/lib/python3.11/site-packages/starlette/middleware/exceptions.py\", line 79, in __call__\n",
      "    raise exc\n",
      "  File \"/home/cest/Workspace/gradio/demo/color_picker/venv/lib/python3.11/site-packages/starlette/middleware/exceptions.py\", line 68, in __call__\n",
      "    await self.app(scope, receive, sender)\n",
      "  File \"/home/cest/Workspace/gradio/demo/color_picker/venv/lib/python3.11/site-packages/fastapi/middleware/asyncexitstack.py\", line 20, in __call__\n",
      "    raise e\n",
      "  File \"/home/cest/Workspace/gradio/demo/color_picker/venv/lib/python3.11/site-packages/fastapi/middleware/asyncexitstack.py\", line 17, in __call__\n",
      "    await self.app(scope, receive, send)\n",
      "  File \"/home/cest/Workspace/gradio/demo/color_picker/venv/lib/python3.11/site-packages/starlette/routing.py\", line 718, in __call__\n",
      "    await route.handle(scope, receive, send)\n",
      "  File \"/home/cest/Workspace/gradio/demo/color_picker/venv/lib/python3.11/site-packages/starlette/routing.py\", line 276, in handle\n",
      "    await self.app(scope, receive, send)\n",
      "  File \"/home/cest/Workspace/gradio/demo/color_picker/venv/lib/python3.11/site-packages/starlette/routing.py\", line 66, in app\n",
      "    response = await func(request)\n",
      "               ^^^^^^^^^^^^^^^^^^^\n",
      "  File \"/home/cest/Workspace/gradio/demo/color_picker/venv/lib/python3.11/site-packages/fastapi/routing.py\", line 274, in app\n",
      "    raw_response = await run_endpoint_function(\n",
      "                   ^^^^^^^^^^^^^^^^^^^^^^^^^^^^\n",
      "  File \"/home/cest/Workspace/gradio/demo/color_picker/venv/lib/python3.11/site-packages/fastapi/routing.py\", line 193, in run_endpoint_function\n",
      "    return await run_in_threadpool(dependant.call, **values)\n",
      "           ^^^^^^^^^^^^^^^^^^^^^^^^^^^^^^^^^^^^^^^^^^^^^^^^^\n",
      "  File \"/home/cest/Workspace/gradio/demo/color_picker/venv/lib/python3.11/site-packages/starlette/concurrency.py\", line 41, in run_in_threadpool\n",
      "    return await anyio.to_thread.run_sync(func, *args)\n",
      "           ^^^^^^^^^^^^^^^^^^^^^^^^^^^^^^^^^^^^^^^^^^^\n",
      "  File \"/home/cest/Workspace/gradio/demo/color_picker/venv/lib/python3.11/site-packages/anyio/to_thread.py\", line 33, in run_sync\n",
      "    return await get_asynclib().run_sync_in_worker_thread(\n",
      "           ^^^^^^^^^^^^^^^^^^^^^^^^^^^^^^^^^^^^^^^^^^^^^^^\n",
      "  File \"/home/cest/Workspace/gradio/demo/color_picker/venv/lib/python3.11/site-packages/anyio/_backends/_asyncio.py\", line 877, in run_sync_in_worker_thread\n",
      "    return await future\n",
      "           ^^^^^^^^^^^^\n",
      "  File \"/home/cest/Workspace/gradio/demo/color_picker/venv/lib/python3.11/site-packages/anyio/_backends/_asyncio.py\", line 807, in run\n",
      "    result = context.run(func, *args)\n",
      "             ^^^^^^^^^^^^^^^^^^^^^^^^\n",
      "  File \"/home/cest/Workspace/gradio/gradio/routes.py\", line 355, in api_info\n",
      "    return gradio.blocks.get_api_info(config, serialize)  # type: ignore\n",
      "           ^^^^^^^^^^^^^^^^^^^^^^^^^^^^^^^^^^^^^^^^^^^^^\n",
      "  File \"/home/cest/Workspace/gradio/gradio/blocks.py\", line 435, in get_api_info\n",
      "    serializer = serializing.COMPONENT_MAPPING[type]()\n",
      "                 ~~~~~~~~~~~~~~~~~~~~~~~~~~~~~^^^^^^\n",
      "KeyError: 'tnoshape'\n"
     ]
    }
   ],
   "source": [
    "import gradio as gr\n",
    "import numpy as np\n",
    "import os\n",
    "from PIL import Image, ImageColor\n",
    "\n",
    "\n",
    "def change_color(icon, color):\n",
    "\n",
    "    \"\"\"\n",
    "    Function that given an icon in .png format changes its color\n",
    "    Args:\n",
    "        icon: Icon whose color needs to be changed.\n",
    "        color: Chosen color with which to edit the input icon.\n",
    "    Returns:\n",
    "        edited_image: Edited icon.\n",
    "    \"\"\"\n",
    "    img = icon.convert(\"LA\")\n",
    "    img = img.convert(\"RGBA\")\n",
    "    image_np = np.array(icon)\n",
    "    _, _, _, alpha = image_np.T\n",
    "    mask = alpha > 0\n",
    "    image_np[..., :-1][mask.T] = ImageColor.getcolor(color, \"RGB\")\n",
    "    edited_image = Image.fromarray(image_np)\n",
    "    return edited_image\n",
    "\n",
    "\n",
    "inputs = [\n",
    "    gr.Image(label=\"icon\", type=\"pil\", image_mode=\"RGBA\"),\n",
    "    gr.TNOShape(label=\"color\"),\n",
    "]\n",
    "outputs = gr.Image(label=\"colored icon\")\n",
    "\n",
    "demo = gr.Interface(\n",
    "    fn=change_color,\n",
    "    inputs=inputs,\n",
    "    outputs=outputs,\n",
    "    examples=[\n",
    "        [os.path.join(os.path.abspath(''), \"rabbit.png\"), \"#ff0000\"],\n",
    "        [os.path.join(os.path.abspath(''), \"rabbit.png\"), \"#0000FF\"],\n",
    "    ],\n",
    ")\n",
    "\n",
    "if __name__ == \"__main__\":\n",
    "    demo.launch()\n"
   ]
  },
  {
   "cell_type": "code",
   "execution_count": 3,
   "id": "8bd2236e-d3d2-4fa4-86b9-7861b25ef3f2",
   "metadata": {},
   "outputs": [
    {
     "data": {
      "text/plain": [
       "gradio.components.tnoshape.TNOShape"
      ]
     },
     "execution_count": 3,
     "metadata": {},
     "output_type": "execute_result"
    }
   ],
   "source": []
  },
  {
   "cell_type": "code",
   "execution_count": null,
   "id": "f5c17378-ddac-4c92-a27e-a8a397955706",
   "metadata": {},
   "outputs": [],
   "source": []
  }
 ],
 "metadata": {
  "kernelspec": {
   "display_name": "gradio",
   "language": "python",
   "name": "gradio"
  },
  "language_info": {
   "codemirror_mode": {
    "name": "ipython",
    "version": 3
   },
   "file_extension": ".py",
   "mimetype": "text/x-python",
   "name": "python",
   "nbconvert_exporter": "python",
   "pygments_lexer": "ipython3",
   "version": "3.11.5"
  }
 },
 "nbformat": 4,
 "nbformat_minor": 5
}
